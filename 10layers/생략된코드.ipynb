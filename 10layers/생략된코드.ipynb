{
 "cells": [
  {
   "cell_type": "code",
   "execution_count": null,
   "id": "25aac71c",
   "metadata": {},
   "outputs": [],
   "source": [
    "import nighres\n",
    "import os\n",
    "\n",
    "skip_plots = False\n",
    "try:\n",
    "    from nilearn import plotting\n",
    "except ImportError:\n",
    "    skip_plots = True\n",
    "    print('Nilearn could not be imported, plotting will be skipped')\n",
    "\n",
    "\n",
    "in_dir = os.path.join(os.getcwd()[:-8], 'nighres_examples/tissue_classification')\n",
    "out_dir = os.path.join(os.getcwd()[:-8], 'nighres_examples/cortical_depth_estimation')\n",
    "\n",
    "segmentation = os.path.join(in_dir, 'sub001_sess1_mgdm-seg.nii.gz')\n",
    "boundary_dist = os.path.join(in_dir, 'sub001_sess1_mgdm-dist.nii.gz')\n",
    "max_labels = os.path.join(in_dir, 'sub001_sess1_mgdm-lbls.nii.gz')\n",
    "max_probas = os.path.join(in_dir, 'sub001_sess1_mgdm-mems.nii.gz')\n",
    "cruise = {'cortex': '/home/cons/python/nighres_examples/cortical_depth_estimation/sub001_sess1_brain_mask_cruise-cortex.nii.gz',\n",
    " 'gwb': '/home/cons/python/nighres_examples/cortical_depth_estimation/sub001_sess1_brain_mask_cruise-gwb.nii.gz',\n",
    " 'cgb': '/home/cons/python/nighres_examples/cortical_depth_estimation/sub001_sess1_brain_mask_cruise-cgb.nii.gz',\n",
    " 'avg': '/home/cons/python/nighres_examples/cortical_depth_estimation/sub001_sess1_brain_mask_cruise-avg.nii.gz',\n",
    " 'thickness': '/home/cons/python/nighres_examples/cortical_depth_estimation/sub001_sess1_brain_mask_cruise-thick.nii.gz',\n",
    " 'pwm': '/home/cons/python/nighres_examples/cortical_depth_estimation/sub001_sess1_brain_mask_cruise-pwm.nii.gz',\n",
    " 'pgm': '/home/cons/python/nighres_examples/cortical_depth_estimation/sub001_sess1_brain_mask_cruise-pgm.nii.gz',\n",
    " 'pcsf': '/home/cons/python/nighres_examples/cortical_depth_estimation/sub001_sess1_brain_mask_cruise-pcsf.nii.gz'}\n",
    "\n",
    "cruise2 = {'cortex': '/home/cons/python/nighres_examples/cortical_depth_estimation/sub002_sess1_brain_mask_cruise-cortex.nii.gz',\n",
    " 'gwb': '/home/cons/python/nighres_examples/cortical_depth_estimation/sub002_sess1_brain_mask_cruise-gwb.nii.gz',\n",
    " 'cgb': '/home/cons/python/nighres_examples/cortical_depth_estimation/sub002_sess1_brain_mask_cruise-cgb.nii.gz',\n",
    " 'avg': '/home/cons/python/nighres_examples/cortical_depth_estimation/sub002_sess1_brain_mask_cruise-avg.nii.gz',\n",
    " 'thickness': '/home/cons/python/nighres_examples/cortical_depth_estimation/sub002_sess1_brain_mask_cruise-thick.nii.gz',\n",
    " 'pwm': '/home/cons/python/nighres_examples/cortical_depth_estimation/sub002_sess1_brain_mask_cruise-pwm.nii.gz',\n",
    " 'pgm': '/home/cons/python/nighres_examples/cortical_depth_estimation/sub002_sess1_brain_mask_cruise-pgm.nii.gz',\n",
    " 'pcsf': '/home/cons/python/nighres_examples/cortical_depth_estimation/sub002_sess1_brain_mask_cruise-pcsf.nii.gz'}"
   ]
  }
 ],
 "metadata": {
  "kernelspec": {
   "display_name": "Python 3 (ipykernel)",
   "language": "python",
   "name": "python3"
  },
  "language_info": {
   "codemirror_mode": {
    "name": "ipython",
    "version": 3
   },
   "file_extension": ".py",
   "mimetype": "text/x-python",
   "name": "python",
   "nbconvert_exporter": "python",
   "pygments_lexer": "ipython3",
   "version": "3.8.10"
  }
 },
 "nbformat": 4,
 "nbformat_minor": 5
}
